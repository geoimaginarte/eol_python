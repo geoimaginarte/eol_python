{
  "nbformat": 4,
  "nbformat_minor": 0,
  "metadata": {
    "kernelspec": {
      "display_name": "Python 3",
      "language": "python",
      "name": "python3"
    },
    "language_info": {
      "codemirror_mode": {
        "name": "ipython",
        "version": 3
      },
      "file_extension": ".py",
      "mimetype": "text/x-python",
      "name": "python",
      "nbconvert_exporter": "python",
      "pygments_lexer": "ipython3",
      "version": "3.6.8"
    },
    "colab": {
      "name": "tarea_4.ipynb",
      "provenance": [],
      "collapsed_sections": [],
      "toc_visible": true,
      "include_colab_link": true
    }
  },
  "cells": [
    {
      "cell_type": "markdown",
      "metadata": {
        "id": "view-in-github",
        "colab_type": "text"
      },
      "source": [
        "<a href=\"https://colab.research.google.com/github/geoimaginarte/eol_python/blob/master/tarea_4.ipynb\" target=\"_parent\"><img src=\"https://colab.research.google.com/assets/colab-badge.svg\" alt=\"Open In Colab\"/></a>"
      ]
    },
    {
      "cell_type": "markdown",
      "metadata": {
        "id": "MqvfAVNYmPzK"
      },
      "source": [
        "# Prueba de la app Plantnet en la identificacion de especies"
      ]
    },
    {
      "cell_type": "markdown",
      "metadata": {
        "id": "fpUcipuqmPzY"
      },
      "source": [
        "Creado por: Jose Francisco Núñez Obando y Maria Laura Pizarro<br>"
      ]
    },
    {
      "cell_type": "markdown",
      "metadata": {
        "id": "G6wIu_65mPzZ"
      },
      "source": [
        "El siguiente documento corresponde con una evaluación del porcentaje de precisión en la identificación de especies de plantas mediante el uso de la aplicación Plantnet.<br>\n",
        "<br>\n",
        "Para cumplir con este objetivo se descargan una serie de fotografia desde los sitios GBIF y EOL usando sus api's respectivas, las cuales posteriormente se utilizan como objetos de prueba para la identificacion de especies en la aplicacion de PlantNet que se encuentra en linea, siendo esta la misma que se encuentra en formato de app para android y ios. Al respecto de la puesta a prueba de dicho servicio de identificacion, se planteo el uso de la técnica de webscrapping utilizando para ello el webdriver de 'chrome' y la librería de Python llamada Selenium, además de otras librerías que complementan el análisis.<br>\n",
        "<br>En los siguientes apartados se describen los procedimientos y se anotan las partes de codigo utilizadas para llavar a cabo cada proceso.\n",
        "<br><br>\n",
        "A continuación, algunas de las librerias python utilizadas inicialmente para completar con los primeros procedimientos:"
      ]
    },
    {
      "cell_type": "code",
      "metadata": {
        "id": "8lPf-VVYmPzd"
      },
      "source": [
        "import requests\n",
        "import urllib.request\n",
        "from lxml import html, etree\n",
        "import json\n",
        "from pandas.io.json import json_normalize\n",
        "#import squarify\n",
        "import warnings\n",
        "warnings.filterwarnings('ignore')\n",
        "import time\n",
        "import pandas as pd\n",
        "import numpy as np\n",
        "import glob\n",
        "import os\n",
        "import matplotlib.pyplot as plt\n",
        "import matplotlib.image as mpimg\n",
        "from bs4 import BeautifulSoup"
      ],
      "execution_count": 35,
      "outputs": []
    },
    {
      "cell_type": "markdown",
      "metadata": {
        "id": "IavTiZIKmPzf"
      },
      "source": [
        "## Descarga de datos usando la API de GBIF"
      ]
    },
    {
      "cell_type": "markdown",
      "metadata": {
        "id": "bRy0WSe-LsWX"
      },
      "source": [
        "En esta sección se procede a realizar la consulta a la API de GBIF en la que únicamente se establecen como parámetros el pais y el reino."
      ]
    },
    {
      "cell_type": "code",
      "metadata": {
        "id": "KKuV0D-5mPzg"
      },
      "source": [
        "parameters = {\"country\": \"CR\",\n",
        "              \"limit\":300,\n",
        "              \"scientificname\" : \"Plantae\"\n",
        "              }\n",
        "url = \"https://api.gbif.org/v1/occurrence/search?\"\n",
        "\n",
        "q_gbif = requests.request(method=\"get\", url=url, params=parameters)\n",
        "j_gbif = json.loads(q_gbif.text)\n",
        "L = json_normalize(j_gbif['results'])\n",
        "L = L[['kingdom', 'phylum','order', 'family', 'genus', 'species', 'scientificName']]"
      ],
      "execution_count": 75,
      "outputs": []
    },
    {
      "cell_type": "markdown",
      "metadata": {
        "id": "zgNpdQY-Mg2b"
      },
      "source": [
        "Una vez se obtienen los resultados de la consulta, se procedio a realizar una selección de 20 muestras aleatorias del total."
      ]
    },
    {
      "cell_type": "code",
      "metadata": {
        "colab": {
          "base_uri": "https://localhost:8080/",
          "height": 939
        },
        "id": "jPt2u2JTIZIe",
        "outputId": "6a3a30b0-951b-4234-eda1-7fdabfbcf3ef"
      },
      "source": [
        "L2 = L.sample(n=20, random_state=1)\n",
        "L2"
      ],
      "execution_count": 76,
      "outputs": [
        {
          "output_type": "execute_result",
          "data": {
            "text/html": [
              "<div>\n",
              "<style scoped>\n",
              "    .dataframe tbody tr th:only-of-type {\n",
              "        vertical-align: middle;\n",
              "    }\n",
              "\n",
              "    .dataframe tbody tr th {\n",
              "        vertical-align: top;\n",
              "    }\n",
              "\n",
              "    .dataframe thead th {\n",
              "        text-align: right;\n",
              "    }\n",
              "</style>\n",
              "<table border=\"1\" class=\"dataframe\">\n",
              "  <thead>\n",
              "    <tr style=\"text-align: right;\">\n",
              "      <th></th>\n",
              "      <th>kingdom</th>\n",
              "      <th>phylum</th>\n",
              "      <th>order</th>\n",
              "      <th>family</th>\n",
              "      <th>genus</th>\n",
              "      <th>species</th>\n",
              "      <th>scientificName</th>\n",
              "    </tr>\n",
              "  </thead>\n",
              "  <tbody>\n",
              "    <tr>\n",
              "      <th>189</th>\n",
              "      <td>Plantae</td>\n",
              "      <td>Tracheophyta</td>\n",
              "      <td>Fabales</td>\n",
              "      <td>Fabaceae</td>\n",
              "      <td>Senna</td>\n",
              "      <td>Senna alata</td>\n",
              "      <td>Senna alata (L.) Roxb.</td>\n",
              "    </tr>\n",
              "    <tr>\n",
              "      <th>123</th>\n",
              "      <td>Plantae</td>\n",
              "      <td>Tracheophyta</td>\n",
              "      <td>Cucurbitales</td>\n",
              "      <td>Cucurbitaceae</td>\n",
              "      <td>Momordica</td>\n",
              "      <td>Momordica charantia</td>\n",
              "      <td>Momordica charantia L.</td>\n",
              "    </tr>\n",
              "    <tr>\n",
              "      <th>185</th>\n",
              "      <td>Plantae</td>\n",
              "      <td>Tracheophyta</td>\n",
              "      <td>Arecales</td>\n",
              "      <td>Arecaceae</td>\n",
              "      <td>Cocos</td>\n",
              "      <td>Cocos nucifera</td>\n",
              "      <td>Cocos nucifera L.</td>\n",
              "    </tr>\n",
              "    <tr>\n",
              "      <th>213</th>\n",
              "      <td>Plantae</td>\n",
              "      <td>Tracheophyta</td>\n",
              "      <td>Asterales</td>\n",
              "      <td>Asteraceae</td>\n",
              "      <td>Sphagneticola</td>\n",
              "      <td>Sphagneticola trilobata</td>\n",
              "      <td>Sphagneticola trilobata (L.) Pruski</td>\n",
              "    </tr>\n",
              "    <tr>\n",
              "      <th>106</th>\n",
              "      <td>Plantae</td>\n",
              "      <td>Tracheophyta</td>\n",
              "      <td>Zingiberales</td>\n",
              "      <td>Heliconiaceae</td>\n",
              "      <td>Heliconia</td>\n",
              "      <td>Heliconia latispatha</td>\n",
              "      <td>Heliconia latispatha Benth.</td>\n",
              "    </tr>\n",
              "    <tr>\n",
              "      <th>127</th>\n",
              "      <td>Plantae</td>\n",
              "      <td>Tracheophyta</td>\n",
              "      <td>Lamiales</td>\n",
              "      <td>Acanthaceae</td>\n",
              "      <td>Aphelandra</td>\n",
              "      <td>Aphelandra scabra</td>\n",
              "      <td>Aphelandra scabra (Vahl) Sm.</td>\n",
              "    </tr>\n",
              "    <tr>\n",
              "      <th>176</th>\n",
              "      <td>Plantae</td>\n",
              "      <td>Tracheophyta</td>\n",
              "      <td>Piperales</td>\n",
              "      <td>Piperaceae</td>\n",
              "      <td>Peperomia</td>\n",
              "      <td>Peperomia pittieri</td>\n",
              "      <td>Peperomia pittieri C.DC. ex T.Durand &amp; Pittier</td>\n",
              "    </tr>\n",
              "    <tr>\n",
              "      <th>73</th>\n",
              "      <td>Plantae</td>\n",
              "      <td>Tracheophyta</td>\n",
              "      <td>Malpighiales</td>\n",
              "      <td>Hypericaceae</td>\n",
              "      <td>Vismia</td>\n",
              "      <td>Vismia macrophylla</td>\n",
              "      <td>Vismia macrophylla Kunth</td>\n",
              "    </tr>\n",
              "    <tr>\n",
              "      <th>275</th>\n",
              "      <td>Plantae</td>\n",
              "      <td>Tracheophyta</td>\n",
              "      <td>Ericales</td>\n",
              "      <td>Primulaceae</td>\n",
              "      <td>Clavija</td>\n",
              "      <td>Clavija biborrana</td>\n",
              "      <td>Clavija biborrana Oerst.</td>\n",
              "    </tr>\n",
              "    <tr>\n",
              "      <th>242</th>\n",
              "      <td>Plantae</td>\n",
              "      <td>Tracheophyta</td>\n",
              "      <td>Gentianales</td>\n",
              "      <td>Rubiaceae</td>\n",
              "      <td>Hamelia</td>\n",
              "      <td>Hamelia patens</td>\n",
              "      <td>Hamelia patens Jacq.</td>\n",
              "    </tr>\n",
              "    <tr>\n",
              "      <th>266</th>\n",
              "      <td>Plantae</td>\n",
              "      <td>Tracheophyta</td>\n",
              "      <td>Solanales</td>\n",
              "      <td>Convolvulaceae</td>\n",
              "      <td>Ipomoea</td>\n",
              "      <td>Ipomoea cairica</td>\n",
              "      <td>Ipomoea cairica (L.) Sweet</td>\n",
              "    </tr>\n",
              "    <tr>\n",
              "      <th>147</th>\n",
              "      <td>Plantae</td>\n",
              "      <td>Tracheophyta</td>\n",
              "      <td>Zingiberales</td>\n",
              "      <td>Heliconiaceae</td>\n",
              "      <td>Heliconia</td>\n",
              "      <td>Heliconia psittacorum</td>\n",
              "      <td>Heliconia psittacorum L.f.</td>\n",
              "    </tr>\n",
              "    <tr>\n",
              "      <th>299</th>\n",
              "      <td>Plantae</td>\n",
              "      <td>Tracheophyta</td>\n",
              "      <td>Fabales</td>\n",
              "      <td>Fabaceae</td>\n",
              "      <td>Caesalpinia</td>\n",
              "      <td>Caesalpinia pulcherrima</td>\n",
              "      <td>Caesalpinia pulcherrima (L.) Sw.</td>\n",
              "    </tr>\n",
              "    <tr>\n",
              "      <th>58</th>\n",
              "      <td>Plantae</td>\n",
              "      <td>Tracheophyta</td>\n",
              "      <td>Lamiales</td>\n",
              "      <td>Acanthaceae</td>\n",
              "      <td>Asystasia</td>\n",
              "      <td>Asystasia gangetica</td>\n",
              "      <td>Asystasia gangetica subsp. gangetica</td>\n",
              "    </tr>\n",
              "    <tr>\n",
              "      <th>122</th>\n",
              "      <td>Plantae</td>\n",
              "      <td>Tracheophyta</td>\n",
              "      <td>Commelinales</td>\n",
              "      <td>Haemodoraceae</td>\n",
              "      <td>Xiphidium</td>\n",
              "      <td>Xiphidium caeruleum</td>\n",
              "      <td>Xiphidium caeruleum Aubl.</td>\n",
              "    </tr>\n",
              "    <tr>\n",
              "      <th>78</th>\n",
              "      <td>Plantae</td>\n",
              "      <td>Tracheophyta</td>\n",
              "      <td>Zingiberales</td>\n",
              "      <td>Musaceae</td>\n",
              "      <td>Musa</td>\n",
              "      <td>Musa paradisiaca</td>\n",
              "      <td>Musa paradisiaca L.</td>\n",
              "    </tr>\n",
              "    <tr>\n",
              "      <th>11</th>\n",
              "      <td>Plantae</td>\n",
              "      <td>Tracheophyta</td>\n",
              "      <td>Asparagales</td>\n",
              "      <td>Orchidaceae</td>\n",
              "      <td>Maxillaria</td>\n",
              "      <td>Maxillaria umbratilis</td>\n",
              "      <td>Maxillaria umbratilis L.O.Williams</td>\n",
              "    </tr>\n",
              "    <tr>\n",
              "      <th>167</th>\n",
              "      <td>Plantae</td>\n",
              "      <td>Tracheophyta</td>\n",
              "      <td>Asterales</td>\n",
              "      <td>Asteraceae</td>\n",
              "      <td>Sphagneticola</td>\n",
              "      <td>Sphagneticola trilobata</td>\n",
              "      <td>Sphagneticola trilobata (L.) Pruski</td>\n",
              "    </tr>\n",
              "    <tr>\n",
              "      <th>220</th>\n",
              "      <td>Plantae</td>\n",
              "      <td>Tracheophyta</td>\n",
              "      <td>Alismatales</td>\n",
              "      <td>Araceae</td>\n",
              "      <td>Caladium</td>\n",
              "      <td>Caladium bicolor</td>\n",
              "      <td>Caladium bicolor (Aiton) Vent.</td>\n",
              "    </tr>\n",
              "    <tr>\n",
              "      <th>29</th>\n",
              "      <td>Plantae</td>\n",
              "      <td>Tracheophyta</td>\n",
              "      <td>Lamiales</td>\n",
              "      <td>Gesneriaceae</td>\n",
              "      <td>Drymonia</td>\n",
              "      <td>Drymonia coriacea</td>\n",
              "      <td>Drymonia coriacea (Oerst.) Wiehler</td>\n",
              "    </tr>\n",
              "  </tbody>\n",
              "</table>\n",
              "</div>"
            ],
            "text/plain": [
              "     kingdom  ...                                  scientificName\n",
              "189  Plantae  ...                          Senna alata (L.) Roxb.\n",
              "123  Plantae  ...                          Momordica charantia L.\n",
              "185  Plantae  ...                               Cocos nucifera L.\n",
              "213  Plantae  ...             Sphagneticola trilobata (L.) Pruski\n",
              "106  Plantae  ...                     Heliconia latispatha Benth.\n",
              "127  Plantae  ...                    Aphelandra scabra (Vahl) Sm.\n",
              "176  Plantae  ...  Peperomia pittieri C.DC. ex T.Durand & Pittier\n",
              "73   Plantae  ...                        Vismia macrophylla Kunth\n",
              "275  Plantae  ...                        Clavija biborrana Oerst.\n",
              "242  Plantae  ...                            Hamelia patens Jacq.\n",
              "266  Plantae  ...                      Ipomoea cairica (L.) Sweet\n",
              "147  Plantae  ...                      Heliconia psittacorum L.f.\n",
              "299  Plantae  ...                Caesalpinia pulcherrima (L.) Sw.\n",
              "58   Plantae  ...            Asystasia gangetica subsp. gangetica\n",
              "122  Plantae  ...                       Xiphidium caeruleum Aubl.\n",
              "78   Plantae  ...                             Musa paradisiaca L.\n",
              "11   Plantae  ...              Maxillaria umbratilis L.O.Williams\n",
              "167  Plantae  ...             Sphagneticola trilobata (L.) Pruski\n",
              "220  Plantae  ...                  Caladium bicolor (Aiton) Vent.\n",
              "29   Plantae  ...              Drymonia coriacea (Oerst.) Wiehler\n",
              "\n",
              "[20 rows x 7 columns]"
            ]
          },
          "metadata": {
            "tags": []
          },
          "execution_count": 76
        }
      ]
    },
    {
      "cell_type": "markdown",
      "metadata": {
        "id": "Q5MOHg1RmPzs"
      },
      "source": [
        "## Consulta a la API de Encyclopedia of Life (EOL)"
      ]
    },
    {
      "cell_type": "markdown",
      "metadata": {
        "id": "Sv1yabI7Nc4q"
      },
      "source": [
        "Con el fin de obtener una cantidad de 3 fotos de cada una especie de la muestra, se realiza una consulta a la API de EOL desde la que se obtiene una referencia a una subpagina de la especie correspondiente. En dicha subpagina se consulta de forma automatizada la seccion de media en la que se encuentran las imagenes por especie, por lo que para una descarga de las misma se emplea una tecnica de web scrapping. Al final se obtiene un dataframe que contiene el nombre de especie y una URL de las fotografias asociadas a esta. "
      ]
    },
    {
      "cell_type": "code",
      "metadata": {
        "id": "ce8I1Fk4dVUQ"
      },
      "source": [
        "L3=L2.groupby(['species'])['species'].head(1).reset_index(drop=True)\n",
        "url_eol = \"http://eol.org/api/search/1.0.json?\"\n",
        "df = pd.DataFrame(columns=('specie', 'url'))"
      ],
      "execution_count": 87,
      "outputs": []
    },
    {
      "cell_type": "code",
      "metadata": {
        "colab": {
          "base_uri": "https://localhost:8080/",
          "height": 1000
        },
        "id": "Lyj1a3WObqWS",
        "outputId": "594061c6-6cbe-460c-ede9-b94da5e01c46"
      },
      "source": [
        "species_count=0\n",
        "rows_list = []\n",
        "for i in L3:\n",
        "    #EOL DATA\n",
        "    parameters = {\"q\": i}\n",
        "    q_eol = requests.request(method=\"get\", url=url_eol, params=parameters)\n",
        "    j_eol = json.loads(q_eol.text)\n",
        "    \n",
        "    #Se filtran los datos que tengan mas de 3 resultados \n",
        "    jd_eol = json_normalize(j_eol['results'])\n",
        "    rows_temp = []  \n",
        "    #Se recorren los links de los resultados y se evalua si el link devuelve informacion\n",
        "    for link in j_eol['results']:\n",
        "        dict1 = {}\n",
        "        r = requests.get(link['link']+'/media')\n",
        "        html = r.text\n",
        "        soup = BeautifulSoup(html, 'lxml')\n",
        "        links = soup.find_all('div', {'class': 'js-grid-modal-toggle uk-card-media-top uk-inline-clip uk-transition-toggle'})\n",
        "        \n",
        "        for y in links:\n",
        "            dict1.update({'Specie':i, 'Url':y.find('img')['src']})\n",
        "            rows_temp.append(dict1) \n",
        "            if(len(rows_temp) == 3):\n",
        "                species_count+=1\n",
        "                rows_list += rows_temp\n",
        "                break\n",
        "        if(len(rows_temp) == 3):\n",
        "            break\n",
        "    #Se detiene el ciclo cuando ya se hayan obtenido 3 imagenes de 20 especies\n",
        "    if (species_count == 21):\n",
        "        break\n",
        "            \n",
        "df_eol = pd.DataFrame(rows_list)\n",
        "df_eol"
      ],
      "execution_count": 88,
      "outputs": [
        {
          "output_type": "execute_result",
          "data": {
            "text/html": [
              "<div>\n",
              "<style scoped>\n",
              "    .dataframe tbody tr th:only-of-type {\n",
              "        vertical-align: middle;\n",
              "    }\n",
              "\n",
              "    .dataframe tbody tr th {\n",
              "        vertical-align: top;\n",
              "    }\n",
              "\n",
              "    .dataframe thead th {\n",
              "        text-align: right;\n",
              "    }\n",
              "</style>\n",
              "<table border=\"1\" class=\"dataframe\">\n",
              "  <thead>\n",
              "    <tr style=\"text-align: right;\">\n",
              "      <th></th>\n",
              "      <th>Specie</th>\n",
              "      <th>Url</th>\n",
              "    </tr>\n",
              "  </thead>\n",
              "  <tbody>\n",
              "    <tr>\n",
              "      <th>0</th>\n",
              "      <td>Senna alata</td>\n",
              "      <td>https://content.eol.org/data/media/7e/e3/ec/54...</td>\n",
              "    </tr>\n",
              "    <tr>\n",
              "      <th>1</th>\n",
              "      <td>Senna alata</td>\n",
              "      <td>https://content.eol.org/data/media/7e/e3/ec/54...</td>\n",
              "    </tr>\n",
              "    <tr>\n",
              "      <th>2</th>\n",
              "      <td>Senna alata</td>\n",
              "      <td>https://content.eol.org/data/media/7e/e3/ec/54...</td>\n",
              "    </tr>\n",
              "    <tr>\n",
              "      <th>3</th>\n",
              "      <td>Momordica charantia</td>\n",
              "      <td>https://content.eol.org/data/media/00/22/ea/8....</td>\n",
              "    </tr>\n",
              "    <tr>\n",
              "      <th>4</th>\n",
              "      <td>Momordica charantia</td>\n",
              "      <td>https://content.eol.org/data/media/00/22/ea/8....</td>\n",
              "    </tr>\n",
              "    <tr>\n",
              "      <th>5</th>\n",
              "      <td>Momordica charantia</td>\n",
              "      <td>https://content.eol.org/data/media/00/22/ea/8....</td>\n",
              "    </tr>\n",
              "    <tr>\n",
              "      <th>6</th>\n",
              "      <td>Cocos nucifera</td>\n",
              "      <td>https://content.eol.org/data/media/80/01/5b/54...</td>\n",
              "    </tr>\n",
              "    <tr>\n",
              "      <th>7</th>\n",
              "      <td>Cocos nucifera</td>\n",
              "      <td>https://content.eol.org/data/media/80/01/5b/54...</td>\n",
              "    </tr>\n",
              "    <tr>\n",
              "      <th>8</th>\n",
              "      <td>Cocos nucifera</td>\n",
              "      <td>https://content.eol.org/data/media/80/01/5b/54...</td>\n",
              "    </tr>\n",
              "    <tr>\n",
              "      <th>9</th>\n",
              "      <td>Sphagneticola trilobata</td>\n",
              "      <td>https://content.eol.org/data/media/80/83/3c/54...</td>\n",
              "    </tr>\n",
              "    <tr>\n",
              "      <th>10</th>\n",
              "      <td>Sphagneticola trilobata</td>\n",
              "      <td>https://content.eol.org/data/media/80/83/3c/54...</td>\n",
              "    </tr>\n",
              "    <tr>\n",
              "      <th>11</th>\n",
              "      <td>Sphagneticola trilobata</td>\n",
              "      <td>https://content.eol.org/data/media/80/83/3c/54...</td>\n",
              "    </tr>\n",
              "    <tr>\n",
              "      <th>12</th>\n",
              "      <td>Heliconia latispatha</td>\n",
              "      <td>https://content.eol.org/data/media/80/36/83/54...</td>\n",
              "    </tr>\n",
              "    <tr>\n",
              "      <th>13</th>\n",
              "      <td>Heliconia latispatha</td>\n",
              "      <td>https://content.eol.org/data/media/80/36/83/54...</td>\n",
              "    </tr>\n",
              "    <tr>\n",
              "      <th>14</th>\n",
              "      <td>Heliconia latispatha</td>\n",
              "      <td>https://content.eol.org/data/media/80/36/83/54...</td>\n",
              "    </tr>\n",
              "    <tr>\n",
              "      <th>15</th>\n",
              "      <td>Aphelandra scabra</td>\n",
              "      <td>https://content.eol.org/data/media/b0/8c/45/53...</td>\n",
              "    </tr>\n",
              "    <tr>\n",
              "      <th>16</th>\n",
              "      <td>Aphelandra scabra</td>\n",
              "      <td>https://content.eol.org/data/media/b0/8c/45/53...</td>\n",
              "    </tr>\n",
              "    <tr>\n",
              "      <th>17</th>\n",
              "      <td>Aphelandra scabra</td>\n",
              "      <td>https://content.eol.org/data/media/b0/8c/45/53...</td>\n",
              "    </tr>\n",
              "    <tr>\n",
              "      <th>18</th>\n",
              "      <td>Vismia macrophylla</td>\n",
              "      <td>https://content.eol.org/data/media/b0/7a/ef/53...</td>\n",
              "    </tr>\n",
              "    <tr>\n",
              "      <th>19</th>\n",
              "      <td>Vismia macrophylla</td>\n",
              "      <td>https://content.eol.org/data/media/b0/7a/ef/53...</td>\n",
              "    </tr>\n",
              "    <tr>\n",
              "      <th>20</th>\n",
              "      <td>Vismia macrophylla</td>\n",
              "      <td>https://content.eol.org/data/media/b0/7a/ef/53...</td>\n",
              "    </tr>\n",
              "    <tr>\n",
              "      <th>21</th>\n",
              "      <td>Clavija biborrana</td>\n",
              "      <td>https://content.eol.org/data/media/80/be/fd/54...</td>\n",
              "    </tr>\n",
              "    <tr>\n",
              "      <th>22</th>\n",
              "      <td>Clavija biborrana</td>\n",
              "      <td>https://content.eol.org/data/media/80/be/fd/54...</td>\n",
              "    </tr>\n",
              "    <tr>\n",
              "      <th>23</th>\n",
              "      <td>Clavija biborrana</td>\n",
              "      <td>https://content.eol.org/data/media/80/be/fd/54...</td>\n",
              "    </tr>\n",
              "    <tr>\n",
              "      <th>24</th>\n",
              "      <td>Hamelia patens</td>\n",
              "      <td>https://content.eol.org/data/media/7e/9c/d8/54...</td>\n",
              "    </tr>\n",
              "    <tr>\n",
              "      <th>25</th>\n",
              "      <td>Hamelia patens</td>\n",
              "      <td>https://content.eol.org/data/media/7e/9c/d8/54...</td>\n",
              "    </tr>\n",
              "    <tr>\n",
              "      <th>26</th>\n",
              "      <td>Hamelia patens</td>\n",
              "      <td>https://content.eol.org/data/media/7e/9c/d8/54...</td>\n",
              "    </tr>\n",
              "    <tr>\n",
              "      <th>27</th>\n",
              "      <td>Ipomoea cairica</td>\n",
              "      <td>https://content.eol.org/data/media/7f/df/8f/54...</td>\n",
              "    </tr>\n",
              "    <tr>\n",
              "      <th>28</th>\n",
              "      <td>Ipomoea cairica</td>\n",
              "      <td>https://content.eol.org/data/media/7f/df/8f/54...</td>\n",
              "    </tr>\n",
              "    <tr>\n",
              "      <th>29</th>\n",
              "      <td>Ipomoea cairica</td>\n",
              "      <td>https://content.eol.org/data/media/7f/df/8f/54...</td>\n",
              "    </tr>\n",
              "    <tr>\n",
              "      <th>30</th>\n",
              "      <td>Heliconia psittacorum</td>\n",
              "      <td>https://content.eol.org/data/media/7f/43/b0/54...</td>\n",
              "    </tr>\n",
              "    <tr>\n",
              "      <th>31</th>\n",
              "      <td>Heliconia psittacorum</td>\n",
              "      <td>https://content.eol.org/data/media/7f/43/b0/54...</td>\n",
              "    </tr>\n",
              "    <tr>\n",
              "      <th>32</th>\n",
              "      <td>Heliconia psittacorum</td>\n",
              "      <td>https://content.eol.org/data/media/7f/43/b0/54...</td>\n",
              "    </tr>\n",
              "    <tr>\n",
              "      <th>33</th>\n",
              "      <td>Caesalpinia pulcherrima</td>\n",
              "      <td>https://content.eol.org/data/media/7f/36/f0/54...</td>\n",
              "    </tr>\n",
              "    <tr>\n",
              "      <th>34</th>\n",
              "      <td>Caesalpinia pulcherrima</td>\n",
              "      <td>https://content.eol.org/data/media/7f/36/f0/54...</td>\n",
              "    </tr>\n",
              "    <tr>\n",
              "      <th>35</th>\n",
              "      <td>Caesalpinia pulcherrima</td>\n",
              "      <td>https://content.eol.org/data/media/7f/36/f0/54...</td>\n",
              "    </tr>\n",
              "    <tr>\n",
              "      <th>36</th>\n",
              "      <td>Asystasia gangetica</td>\n",
              "      <td>https://content.eol.org/data/media/80/5b/1b/54...</td>\n",
              "    </tr>\n",
              "    <tr>\n",
              "      <th>37</th>\n",
              "      <td>Asystasia gangetica</td>\n",
              "      <td>https://content.eol.org/data/media/80/5b/1b/54...</td>\n",
              "    </tr>\n",
              "    <tr>\n",
              "      <th>38</th>\n",
              "      <td>Asystasia gangetica</td>\n",
              "      <td>https://content.eol.org/data/media/80/5b/1b/54...</td>\n",
              "    </tr>\n",
              "    <tr>\n",
              "      <th>39</th>\n",
              "      <td>Xiphidium caeruleum</td>\n",
              "      <td>https://content.eol.org/data/media/7e/49/24/54...</td>\n",
              "    </tr>\n",
              "    <tr>\n",
              "      <th>40</th>\n",
              "      <td>Xiphidium caeruleum</td>\n",
              "      <td>https://content.eol.org/data/media/7e/49/24/54...</td>\n",
              "    </tr>\n",
              "    <tr>\n",
              "      <th>41</th>\n",
              "      <td>Xiphidium caeruleum</td>\n",
              "      <td>https://content.eol.org/data/media/7e/49/24/54...</td>\n",
              "    </tr>\n",
              "    <tr>\n",
              "      <th>42</th>\n",
              "      <td>Musa paradisiaca</td>\n",
              "      <td>https://content.eol.org/data/media/84/f5/b4/7....</td>\n",
              "    </tr>\n",
              "    <tr>\n",
              "      <th>43</th>\n",
              "      <td>Musa paradisiaca</td>\n",
              "      <td>https://content.eol.org/data/media/84/f5/b4/7....</td>\n",
              "    </tr>\n",
              "    <tr>\n",
              "      <th>44</th>\n",
              "      <td>Musa paradisiaca</td>\n",
              "      <td>https://content.eol.org/data/media/84/f5/b4/7....</td>\n",
              "    </tr>\n",
              "    <tr>\n",
              "      <th>45</th>\n",
              "      <td>Caladium bicolor</td>\n",
              "      <td>https://content.eol.org/data/media/7f/45/c1/54...</td>\n",
              "    </tr>\n",
              "    <tr>\n",
              "      <th>46</th>\n",
              "      <td>Caladium bicolor</td>\n",
              "      <td>https://content.eol.org/data/media/7f/45/c1/54...</td>\n",
              "    </tr>\n",
              "    <tr>\n",
              "      <th>47</th>\n",
              "      <td>Caladium bicolor</td>\n",
              "      <td>https://content.eol.org/data/media/7f/45/c1/54...</td>\n",
              "    </tr>\n",
              "    <tr>\n",
              "      <th>48</th>\n",
              "      <td>Drymonia coriacea</td>\n",
              "      <td>https://content.eol.org/data/media/81/96/6a/54...</td>\n",
              "    </tr>\n",
              "    <tr>\n",
              "      <th>49</th>\n",
              "      <td>Drymonia coriacea</td>\n",
              "      <td>https://content.eol.org/data/media/7f/df/4b/54...</td>\n",
              "    </tr>\n",
              "    <tr>\n",
              "      <th>50</th>\n",
              "      <td>Drymonia coriacea</td>\n",
              "      <td>https://content.eol.org/data/media/7f/df/4b/54...</td>\n",
              "    </tr>\n",
              "  </tbody>\n",
              "</table>\n",
              "</div>"
            ],
            "text/plain": [
              "                     Specie                                                Url\n",
              "0               Senna alata  https://content.eol.org/data/media/7e/e3/ec/54...\n",
              "1               Senna alata  https://content.eol.org/data/media/7e/e3/ec/54...\n",
              "2               Senna alata  https://content.eol.org/data/media/7e/e3/ec/54...\n",
              "3       Momordica charantia  https://content.eol.org/data/media/00/22/ea/8....\n",
              "4       Momordica charantia  https://content.eol.org/data/media/00/22/ea/8....\n",
              "5       Momordica charantia  https://content.eol.org/data/media/00/22/ea/8....\n",
              "6            Cocos nucifera  https://content.eol.org/data/media/80/01/5b/54...\n",
              "7            Cocos nucifera  https://content.eol.org/data/media/80/01/5b/54...\n",
              "8            Cocos nucifera  https://content.eol.org/data/media/80/01/5b/54...\n",
              "9   Sphagneticola trilobata  https://content.eol.org/data/media/80/83/3c/54...\n",
              "10  Sphagneticola trilobata  https://content.eol.org/data/media/80/83/3c/54...\n",
              "11  Sphagneticola trilobata  https://content.eol.org/data/media/80/83/3c/54...\n",
              "12     Heliconia latispatha  https://content.eol.org/data/media/80/36/83/54...\n",
              "13     Heliconia latispatha  https://content.eol.org/data/media/80/36/83/54...\n",
              "14     Heliconia latispatha  https://content.eol.org/data/media/80/36/83/54...\n",
              "15        Aphelandra scabra  https://content.eol.org/data/media/b0/8c/45/53...\n",
              "16        Aphelandra scabra  https://content.eol.org/data/media/b0/8c/45/53...\n",
              "17        Aphelandra scabra  https://content.eol.org/data/media/b0/8c/45/53...\n",
              "18       Vismia macrophylla  https://content.eol.org/data/media/b0/7a/ef/53...\n",
              "19       Vismia macrophylla  https://content.eol.org/data/media/b0/7a/ef/53...\n",
              "20       Vismia macrophylla  https://content.eol.org/data/media/b0/7a/ef/53...\n",
              "21        Clavija biborrana  https://content.eol.org/data/media/80/be/fd/54...\n",
              "22        Clavija biborrana  https://content.eol.org/data/media/80/be/fd/54...\n",
              "23        Clavija biborrana  https://content.eol.org/data/media/80/be/fd/54...\n",
              "24           Hamelia patens  https://content.eol.org/data/media/7e/9c/d8/54...\n",
              "25           Hamelia patens  https://content.eol.org/data/media/7e/9c/d8/54...\n",
              "26           Hamelia patens  https://content.eol.org/data/media/7e/9c/d8/54...\n",
              "27          Ipomoea cairica  https://content.eol.org/data/media/7f/df/8f/54...\n",
              "28          Ipomoea cairica  https://content.eol.org/data/media/7f/df/8f/54...\n",
              "29          Ipomoea cairica  https://content.eol.org/data/media/7f/df/8f/54...\n",
              "30    Heliconia psittacorum  https://content.eol.org/data/media/7f/43/b0/54...\n",
              "31    Heliconia psittacorum  https://content.eol.org/data/media/7f/43/b0/54...\n",
              "32    Heliconia psittacorum  https://content.eol.org/data/media/7f/43/b0/54...\n",
              "33  Caesalpinia pulcherrima  https://content.eol.org/data/media/7f/36/f0/54...\n",
              "34  Caesalpinia pulcherrima  https://content.eol.org/data/media/7f/36/f0/54...\n",
              "35  Caesalpinia pulcherrima  https://content.eol.org/data/media/7f/36/f0/54...\n",
              "36      Asystasia gangetica  https://content.eol.org/data/media/80/5b/1b/54...\n",
              "37      Asystasia gangetica  https://content.eol.org/data/media/80/5b/1b/54...\n",
              "38      Asystasia gangetica  https://content.eol.org/data/media/80/5b/1b/54...\n",
              "39      Xiphidium caeruleum  https://content.eol.org/data/media/7e/49/24/54...\n",
              "40      Xiphidium caeruleum  https://content.eol.org/data/media/7e/49/24/54...\n",
              "41      Xiphidium caeruleum  https://content.eol.org/data/media/7e/49/24/54...\n",
              "42         Musa paradisiaca  https://content.eol.org/data/media/84/f5/b4/7....\n",
              "43         Musa paradisiaca  https://content.eol.org/data/media/84/f5/b4/7....\n",
              "44         Musa paradisiaca  https://content.eol.org/data/media/84/f5/b4/7....\n",
              "45         Caladium bicolor  https://content.eol.org/data/media/7f/45/c1/54...\n",
              "46         Caladium bicolor  https://content.eol.org/data/media/7f/45/c1/54...\n",
              "47         Caladium bicolor  https://content.eol.org/data/media/7f/45/c1/54...\n",
              "48        Drymonia coriacea  https://content.eol.org/data/media/81/96/6a/54...\n",
              "49        Drymonia coriacea  https://content.eol.org/data/media/7f/df/4b/54...\n",
              "50        Drymonia coriacea  https://content.eol.org/data/media/7f/df/4b/54..."
            ]
          },
          "metadata": {
            "tags": []
          },
          "execution_count": 88
        }
      ]
    },
    {
      "cell_type": "code",
      "metadata": {
        "colab": {
          "base_uri": "https://localhost:8080/"
        },
        "id": "IBoA5oaISSVI",
        "outputId": "f5a0d0b0-9767-4173-8380-ba3d3ed84c8d"
      },
      "source": [
        "print('La cantidad de especies sin foto son: ',20-((df_eol.Specie.value_counts().sum())/3))"
      ],
      "execution_count": 89,
      "outputs": [
        {
          "output_type": "stream",
          "text": [
            "La cantidad de especies sin foto son:  3.0\n"
          ],
          "name": "stdout"
        }
      ]
    },
    {
      "cell_type": "code",
      "metadata": {
        "colab": {
          "base_uri": "https://localhost:8080/",
          "height": 193
        },
        "id": "ys0G9B0nSIqu",
        "outputId": "3e77cfd9-69d6-4195-8c8d-dbee731fe6a4"
      },
      "source": [
        "L2_1 = L.sample(3, replace=True)\n",
        "L2_1"
      ],
      "execution_count": 90,
      "outputs": [
        {
          "output_type": "execute_result",
          "data": {
            "text/html": [
              "<div>\n",
              "<style scoped>\n",
              "    .dataframe tbody tr th:only-of-type {\n",
              "        vertical-align: middle;\n",
              "    }\n",
              "\n",
              "    .dataframe tbody tr th {\n",
              "        vertical-align: top;\n",
              "    }\n",
              "\n",
              "    .dataframe thead th {\n",
              "        text-align: right;\n",
              "    }\n",
              "</style>\n",
              "<table border=\"1\" class=\"dataframe\">\n",
              "  <thead>\n",
              "    <tr style=\"text-align: right;\">\n",
              "      <th></th>\n",
              "      <th>kingdom</th>\n",
              "      <th>phylum</th>\n",
              "      <th>order</th>\n",
              "      <th>family</th>\n",
              "      <th>genus</th>\n",
              "      <th>species</th>\n",
              "      <th>scientificName</th>\n",
              "    </tr>\n",
              "  </thead>\n",
              "  <tbody>\n",
              "    <tr>\n",
              "      <th>0</th>\n",
              "      <td>Plantae</td>\n",
              "      <td>Tracheophyta</td>\n",
              "      <td>Aquifoliales</td>\n",
              "      <td>Aquifoliaceae</td>\n",
              "      <td>Ilex</td>\n",
              "      <td>Ilex lamprophylla</td>\n",
              "      <td>Ilex lamprophylla Standl.</td>\n",
              "    </tr>\n",
              "    <tr>\n",
              "      <th>223</th>\n",
              "      <td>Plantae</td>\n",
              "      <td>Tracheophyta</td>\n",
              "      <td>Gentianales</td>\n",
              "      <td>Gentianaceae</td>\n",
              "      <td>Voyria</td>\n",
              "      <td>Voyria alba</td>\n",
              "      <td>Voyria corymbosa subsp. alba (Standl.) Ruyters...</td>\n",
              "    </tr>\n",
              "    <tr>\n",
              "      <th>161</th>\n",
              "      <td>Plantae</td>\n",
              "      <td>Tracheophyta</td>\n",
              "      <td>Gentianales</td>\n",
              "      <td>Apocynaceae</td>\n",
              "      <td>Allamanda</td>\n",
              "      <td>Allamanda blanchetii</td>\n",
              "      <td>Allamanda blanchetii A.DC.</td>\n",
              "    </tr>\n",
              "  </tbody>\n",
              "</table>\n",
              "</div>"
            ],
            "text/plain": [
              "     kingdom  ...                                     scientificName\n",
              "0    Plantae  ...                          Ilex lamprophylla Standl.\n",
              "223  Plantae  ...  Voyria corymbosa subsp. alba (Standl.) Ruyters...\n",
              "161  Plantae  ...                         Allamanda blanchetii A.DC.\n",
              "\n",
              "[3 rows x 7 columns]"
            ]
          },
          "metadata": {
            "tags": []
          },
          "execution_count": 90
        }
      ]
    },
    {
      "cell_type": "markdown",
      "metadata": {
        "id": "ApulH6DAZWnm"
      },
      "source": [
        "Checkeo de especies entre listas"
      ]
    },
    {
      "cell_type": "code",
      "metadata": {
        "colab": {
          "base_uri": "https://localhost:8080/"
        },
        "id": "d8CPOkHxVgUD",
        "outputId": "6124c3d9-6b4e-4024-cc3e-3da472089902"
      },
      "source": [
        "spec1 = list(df_eol['Specie'].unique())\n",
        "spec2 = list(L2_1.species.unique())\n",
        "\n",
        "check =  any(item in spec2 for item in spec1)\n",
        " \n",
        "if check is True:\n",
        "    print(\"La lista si contiene algunas especies de la primera lista\")   \n",
        "else :\n",
        "    print(\"Las listas no contiene especies iguales.\")"
      ],
      "execution_count": 92,
      "outputs": [
        {
          "output_type": "stream",
          "text": [
            "Las listas no contiene especies iguales.\n"
          ],
          "name": "stdout"
        }
      ]
    },
    {
      "cell_type": "markdown",
      "metadata": {
        "id": "F1SDq4o1dpLO"
      },
      "source": [
        "### Se realiza la busqueda de fotos en eol de las especies faltantes con este requerimiento"
      ]
    },
    {
      "cell_type": "code",
      "metadata": {
        "id": "Ta2e9vHzf24Z"
      },
      "source": [
        ""
      ],
      "execution_count": null,
      "outputs": []
    },
    {
      "cell_type": "markdown",
      "metadata": {
        "id": "pYOLQwgJ-ZGT"
      },
      "source": [
        "Se procede a guardar las imagenes en una **carpeta**"
      ]
    },
    {
      "cell_type": "code",
      "metadata": {
        "colab": {
          "base_uri": "https://localhost:8080/"
        },
        "id": "4y9TnVPAnK8P",
        "outputId": "fd78ef51-9a45-4bb8-a229-b23835a1b619"
      },
      "source": [
        "from google.colab import drive\n",
        "drive.mount('/content/drive')"
      ],
      "execution_count": 16,
      "outputs": [
        {
          "output_type": "stream",
          "text": [
            "Mounted at /content/drive\n"
          ],
          "name": "stdout"
        }
      ]
    },
    {
      "cell_type": "code",
      "metadata": {
        "colab": {
          "base_uri": "https://localhost:8080/"
        },
        "id": "FHiTLTE1mPzr",
        "outputId": "04b9a3ea-47fd-4478-a889-e1649656f891"
      },
      "source": [
        "count = 0\n",
        "for url, name in zip(L_20['identifier'], L_20['species']):\n",
        "    n = os.path.exists(\"/content/drive/MyDrive/imagenes/\"+name+'.jpg')\n",
        "    if n:\n",
        "        count +=1\n",
        "        if (count < 3):\n",
        "            urllib.request.urlretrieve(str(url), \"/content/drive/MyDrive/imagenes/\"+name+'_'+str(count)+\".jpg\")\n",
        "    else:\n",
        "        count = 0\n",
        "        urllib.request.urlretrieve(str(url), \"/content/drive/MyDrive/imagenes/\"+name+\".jpg\")\n",
        "\n",
        "file_list = glob.glob(os.path.join(os.getcwd(), \"/content/drive/MyDrive/imagenes/\", \"*.jpg\"))\n",
        "print(\"La cantidad de imagenes descargadas son: \",len(file_list))"
      ],
      "execution_count": null,
      "outputs": [
        {
          "output_type": "stream",
          "text": [
            "La cantidad de imagenes descargadas son:  34\n"
          ],
          "name": "stdout"
        }
      ]
    },
    {
      "cell_type": "markdown",
      "metadata": {
        "id": "aQAxdZWomPzu"
      },
      "source": [
        "## Prueba del identificador de especies de Plantnet"
      ]
    },
    {
      "cell_type": "markdown",
      "metadata": {
        "id": "_S8um11ymPzz"
      },
      "source": [
        "Para la evaluación se emplean las fotografías obtenidas en el proceso anterior.<br>"
      ]
    },
    {
      "cell_type": "markdown",
      "metadata": {
        "id": "X9Qfr3ekmPzw"
      },
      "source": [
        "A continuación, una lista de las librerías utilizadas en esta seccion:"
      ]
    },
    {
      "cell_type": "code",
      "metadata": {
        "id": "re6g1zPemPzx"
      },
      "source": [
        "#URL de descarga del webdriver: https://chromedriver.chromium.org/\n",
        "\n",
        "#Se cargan las librerias respectivas\n",
        "from selenium import webdriver\n",
        "from selenium.webdriver.support.ui import WebDriverWait\n",
        "from selenium.webdriver.support import expected_conditions as EC\n",
        "from selenium.webdriver.common.by import By"
      ],
      "execution_count": null,
      "outputs": []
    },
    {
      "cell_type": "markdown",
      "metadata": {
        "id": "Q0UMw4hOmPz4"
      },
      "source": [
        "En las siguientes líneas de código se realizan una serie de procesos automatizados que corresponden con la técnica de webscrapping los cuales corresponden con: ejecución del webdriver en cuyo caso abre el GoogleChrome, posteriormente se busca el sitio web de plantnet que corresponde con la app de identificación y, en este sitio se utiliza el boton de subida de imagenes para su respectiva identificación, con esto se obtiene un resultado del cual únicamente se copia la información de la primera fila con el que se crea un dataframe que incluye como columnas el nombre del archivo evaluado, la nombre científico, la familia, el nombre común y el porcentaje de precisión que se obtuvo con la identificación que realiza la app.<br>"
      ]
    },
    {
      "cell_type": "code",
      "metadata": {
        "id": "GjpdbPcYmPz6"
      },
      "source": [
        "#Se ejecuta el webdriver para chrome\n",
        "driver = webdriver.Chrome(executable_path=\"/content/drive/MyDrive/webdriver/chromedriver.exe\")\n",
        "driver.implicitly_wait(0.5)\n",
        "driver.maximize_window()\n",
        "\n",
        "#Se especifica la pagina web\n",
        "driver.get(\"https://identify.plantnet.org/\")\n",
        "\n",
        "#Identificar el elemento donde cargar la foto\n",
        "s = driver.find_element_by_xpath(\"//input[@type='file']\")\n",
        "\n",
        "#Se crea un dataset con los datos obtenidos\n",
        "fname = list()\n",
        "nsc = list()\n",
        "fam = list()\n",
        "ncom = list()\n",
        "prec = list()\n",
        "pic = list()\n",
        "\n",
        "for i in range(0, len(file_list)):\n",
        "    s.send_keys(str(file_list[i]))\n",
        "    fname.append(os.path.basename(file_list[i]))\n",
        "    time.sleep(40)\n",
        "    #Selecciona los primeros datos de la identificacion\n",
        "    text_plant = driver.find_element_by_xpath('/html/body/div[2]/div[1]/div/div/div/div[1]/div[1]/div')\n",
        "    text_plant = text_plant.text\n",
        "    text_plant = text_plant.split('\\n')\n",
        "    nsc.append(text_plant[0])\n",
        "    fam.append(text_plant[1])\n",
        "    if(len(text_plant) == 4):\n",
        "        ncom.append(text_plant[2])\n",
        "    else:\n",
        "        ncom.append(\"ND\")\n",
        "    prec.append(text_plant[-1])\n",
        "    pic.append(str(file_list[i]))\n",
        "\n",
        "df = pd.DataFrame({'Foto': fname,'Nombre_cientifico': nsc, 'Familia': fam, 'Nombre_comun': ncom, 'Precision':prec})\n",
        "df['Precision'] = [float(v.replace('%','').strip()) for v in df.Precision]\n",
        "\n",
        "driver.quit()"
      ],
      "execution_count": null,
      "outputs": []
    },
    {
      "cell_type": "markdown",
      "metadata": {
        "id": "djqEGKYzmPz7"
      },
      "source": [
        "A partir del procedimiento anterior se construye la siguiente tabla:<br>"
      ]
    },
    {
      "cell_type": "code",
      "metadata": {
        "id": "Lck7KPvUmPz8",
        "outputId": "6aaa4030-ca48-4cb6-80fa-54f5e1de3ea2"
      },
      "source": [
        "df"
      ],
      "execution_count": null,
      "outputs": [
        {
          "output_type": "execute_result",
          "data": {
            "text/html": [
              "<div>\n",
              "<style scoped>\n",
              "    .dataframe tbody tr th:only-of-type {\n",
              "        vertical-align: middle;\n",
              "    }\n",
              "\n",
              "    .dataframe tbody tr th {\n",
              "        vertical-align: top;\n",
              "    }\n",
              "\n",
              "    .dataframe thead th {\n",
              "        text-align: right;\n",
              "    }\n",
              "</style>\n",
              "<table border=\"1\" class=\"dataframe\">\n",
              "  <thead>\n",
              "    <tr style=\"text-align: right;\">\n",
              "      <th></th>\n",
              "      <th>Foto</th>\n",
              "      <th>Nombre_cientifico</th>\n",
              "      <th>Familia</th>\n",
              "      <th>Nombre_comun</th>\n",
              "      <th>Precision</th>\n",
              "    </tr>\n",
              "  </thead>\n",
              "  <tbody>\n",
              "    <tr>\n",
              "      <td>0</td>\n",
              "      <td>a.jpg</td>\n",
              "      <td>Cattleya schilleriana Rchb.f.</td>\n",
              "      <td>Orchidaceae</td>\n",
              "      <td>ND</td>\n",
              "      <td>54.25</td>\n",
              "    </tr>\n",
              "    <tr>\n",
              "      <td>1</td>\n",
              "      <td>b.jpg</td>\n",
              "      <td>Opuntia monacantha (Willd.) Haw.</td>\n",
              "      <td>Cactaceae</td>\n",
              "      <td>Cochineal prickly-pear</td>\n",
              "      <td>53.78</td>\n",
              "    </tr>\n",
              "    <tr>\n",
              "      <td>2</td>\n",
              "      <td>c.jpg</td>\n",
              "      <td>Tecoma stans (L.) Juss. ex Kunth</td>\n",
              "      <td>Bignoniaceae</td>\n",
              "      <td>Trumpet-flower</td>\n",
              "      <td>7.64</td>\n",
              "    </tr>\n",
              "    <tr>\n",
              "      <td>3</td>\n",
              "      <td>d.jpg</td>\n",
              "      <td>Thuja occidentalis L.</td>\n",
              "      <td>Cupressaceae</td>\n",
              "      <td>Northern white-cedar</td>\n",
              "      <td>37.06</td>\n",
              "    </tr>\n",
              "    <tr>\n",
              "      <td>4</td>\n",
              "      <td>e.jpg</td>\n",
              "      <td>Coffea arabica L.</td>\n",
              "      <td>Rubiaceae</td>\n",
              "      <td>Arabian coffee</td>\n",
              "      <td>32.81</td>\n",
              "    </tr>\n",
              "    <tr>\n",
              "      <td>5</td>\n",
              "      <td>f.jpg</td>\n",
              "      <td>Tulbaghia violacea Harv.</td>\n",
              "      <td>Amaryllidaceae</td>\n",
              "      <td>ND</td>\n",
              "      <td>46.45</td>\n",
              "    </tr>\n",
              "    <tr>\n",
              "      <td>6</td>\n",
              "      <td>g.jpg</td>\n",
              "      <td>Lycopodium clavatum L.</td>\n",
              "      <td>Lycopodiaceae</td>\n",
              "      <td>Ground-pine</td>\n",
              "      <td>70.32</td>\n",
              "    </tr>\n",
              "    <tr>\n",
              "      <td>7</td>\n",
              "      <td>h.jpg</td>\n",
              "      <td>Fuchsia triphylla L.</td>\n",
              "      <td>Onagraceae</td>\n",
              "      <td>ND</td>\n",
              "      <td>22.45</td>\n",
              "    </tr>\n",
              "    <tr>\n",
              "      <td>8</td>\n",
              "      <td>i.jpg</td>\n",
              "      <td>Sarracenia purpurea L.</td>\n",
              "      <td>Sarraceniaceae</td>\n",
              "      <td>Common pitcherplant</td>\n",
              "      <td>21.46</td>\n",
              "    </tr>\n",
              "    <tr>\n",
              "      <td>9</td>\n",
              "      <td>j.jpg</td>\n",
              "      <td>Eryngium lemmonii J.M. Coult. &amp; Rose</td>\n",
              "      <td>Apiaceae</td>\n",
              "      <td>Chiricahua Mountain eryngo</td>\n",
              "      <td>56.90</td>\n",
              "    </tr>\n",
              "    <tr>\n",
              "      <td>10</td>\n",
              "      <td>k.jpg</td>\n",
              "      <td>Camellia japonica L.</td>\n",
              "      <td>Theaceae</td>\n",
              "      <td>Camellia</td>\n",
              "      <td>63.58</td>\n",
              "    </tr>\n",
              "    <tr>\n",
              "      <td>11</td>\n",
              "      <td>l.jpg</td>\n",
              "      <td>Bergenia crassifolia (L.) Fritsch</td>\n",
              "      <td>Saxifragaceae</td>\n",
              "      <td>Siberian-tea</td>\n",
              "      <td>79.10</td>\n",
              "    </tr>\n",
              "    <tr>\n",
              "      <td>12</td>\n",
              "      <td>m.jpg</td>\n",
              "      <td>Leucaena leucocephala (Lam.) de Wit</td>\n",
              "      <td>Leguminosae</td>\n",
              "      <td>Coffeebush</td>\n",
              "      <td>2.19</td>\n",
              "    </tr>\n",
              "  </tbody>\n",
              "</table>\n",
              "</div>"
            ],
            "text/plain": [
              "     Foto                     Nombre_cientifico         Familia  \\\n",
              "0   a.jpg         Cattleya schilleriana Rchb.f.     Orchidaceae   \n",
              "1   b.jpg      Opuntia monacantha (Willd.) Haw.       Cactaceae   \n",
              "2   c.jpg      Tecoma stans (L.) Juss. ex Kunth    Bignoniaceae   \n",
              "3   d.jpg                 Thuja occidentalis L.    Cupressaceae   \n",
              "4   e.jpg                     Coffea arabica L.       Rubiaceae   \n",
              "5   f.jpg              Tulbaghia violacea Harv.  Amaryllidaceae   \n",
              "6   g.jpg                Lycopodium clavatum L.   Lycopodiaceae   \n",
              "7   h.jpg                  Fuchsia triphylla L.      Onagraceae   \n",
              "8   i.jpg                Sarracenia purpurea L.  Sarraceniaceae   \n",
              "9   j.jpg  Eryngium lemmonii J.M. Coult. & Rose        Apiaceae   \n",
              "10  k.jpg                  Camellia japonica L.        Theaceae   \n",
              "11  l.jpg     Bergenia crassifolia (L.) Fritsch   Saxifragaceae   \n",
              "12  m.jpg   Leucaena leucocephala (Lam.) de Wit     Leguminosae   \n",
              "\n",
              "                  Nombre_comun  Precision  \n",
              "0                           ND      54.25  \n",
              "1       Cochineal prickly-pear      53.78  \n",
              "2               Trumpet-flower       7.64  \n",
              "3         Northern white-cedar      37.06  \n",
              "4               Arabian coffee      32.81  \n",
              "5                           ND      46.45  \n",
              "6                  Ground-pine      70.32  \n",
              "7                           ND      22.45  \n",
              "8          Common pitcherplant      21.46  \n",
              "9   Chiricahua Mountain eryngo      56.90  \n",
              "10                    Camellia      63.58  \n",
              "11                Siberian-tea      79.10  \n",
              "12                  Coffeebush       2.19  "
            ]
          },
          "metadata": {
            "tags": []
          },
          "execution_count": 105
        }
      ]
    },
    {
      "cell_type": "markdown",
      "metadata": {
        "id": "MikCsiwlmPz9"
      },
      "source": [
        "Por último, con el fin de evaluar en términos globales la precisión que se obtuvo con la puesta a prueba de esta app, se aplica una consulta a la columna 'Precision' respecto de sus estadísticas descriptivas.<br>"
      ]
    },
    {
      "cell_type": "code",
      "metadata": {
        "id": "-BK8MGbjmPz-",
        "outputId": "62ac5bcd-6c87-4ce2-e45e-afe5275a027b"
      },
      "source": [
        "df['Precision'].describe()"
      ],
      "execution_count": null,
      "outputs": [
        {
          "output_type": "execute_result",
          "data": {
            "text/plain": [
              "count    13.000000\n",
              "mean     42.153077\n",
              "std      23.897118\n",
              "min       2.190000\n",
              "25%      22.450000\n",
              "50%      46.450000\n",
              "75%      56.900000\n",
              "max      79.100000\n",
              "Name: Precision, dtype: float64"
            ]
          },
          "metadata": {
            "tags": []
          },
          "execution_count": 106
        }
      ]
    },
    {
      "cell_type": "markdown",
      "metadata": {
        "id": "svIprU7lmPz_"
      },
      "source": [
        "De estas estadísticas se puede observar que se evaluaron 60 fotografias de 20 especies diferentes en las cuales se obtuvo una precision promedio de _%, siendo _% la precision mínima  y _% la máxima, tal y como es es posible apreciar en la tabla de resultados.<br>"
      ]
    },
    {
      "cell_type": "markdown",
      "metadata": {
        "id": "uOCnvrFZmPz_"
      },
      "source": [
        "## Fuentes: \n",
        "\n",
        "- https://api.gbif.org/v1/occurrence/\n",
        "- http://eol.org/api/\n",
        "- https://identify.plantnet.org/\n",
        "- https://selenium-python.readthedocs.io/"
      ]
    }
  ]
}